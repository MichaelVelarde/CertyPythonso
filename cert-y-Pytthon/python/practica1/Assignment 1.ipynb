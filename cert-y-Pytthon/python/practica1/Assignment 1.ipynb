{
 "cells": [
  {
   "cell_type": "markdown",
   "metadata": {},
   "source": [
    "Escriba un programa que lea un entero (input), lo multiplique por 3 y lo imprima.\n"
   ]
  },
  {
   "cell_type": "code",
   "execution_count": 13,
   "metadata": {},
   "outputs": [
    {
     "name": "stdout",
     "output_type": "stream",
     "text": [
      "Introduce un entero: 10\n",
      "Resultado:  30\n"
     ]
    }
   ],
   "source": [
    "import math\n",
    "entero = int( input(\"Introduce un entero: \"))\n",
    "print(\"Resultado: \" ,entero*3)"
   ]
  },
  {
   "cell_type": "markdown",
   "metadata": {},
   "source": [
    "Escribir un programa que pida al cliente la longitud y ancho de la habitación e\n",
    "imprima la superficie de la habitación, los valores podrán tener decimales.\n",
    "Formato de salida deseado: xx.yy m^2"
   ]
  },
  {
   "cell_type": "code",
   "execution_count": 11,
   "metadata": {},
   "outputs": [
    {
     "name": "stdout",
     "output_type": "stream",
     "text": [
      "Introduce la longitud de la habitacion: 20\n",
      "Introduce el ancho de la habitacion: 10\n",
      "Area de la habitacion:  200.0  m^2\n"
     ]
    }
   ],
   "source": [
    "ancho = float( input(\"Introduce la longitud de la habitacion: \"))\n",
    "largo = float( input(\"Introduce el ancho de la habitacion: \"))\n",
    "print(\"Area de la habitacion: \" , ancho*largo , \" m^2\")"
   ]
  },
  {
   "cell_type": "markdown",
   "metadata": {},
   "source": [
    "Determinar el área y volumen de un cilindro cuyas dimensiones (radio - altura) se lean\n",
    "desde el teclado.\n",
    "Formato de salida deseado: xx.yy m^3"
   ]
  },
  {
   "cell_type": "code",
   "execution_count": 17,
   "metadata": {},
   "outputs": [
    {
     "name": "stdout",
     "output_type": "stream",
     "text": [
      "Introduce el radio del cilindro: 2\n",
      "Introduce la altura del cilindro: 10\n",
      "Area de la base:  12.57  m^2\n",
      "Volumen del cilindro:  125.66  m^3\n"
     ]
    }
   ],
   "source": [
    "radio = float( input(\"Introduce el radio del cilindro: \"))\n",
    "altura = float( input(\"Introduce la altura del cilindro: \"))\n",
    "area= radio*radio*float(format(math.pi))\n",
    "print(\"Area de la base: \" , \"{0:.2f}\".format(area), \" m^2\")\n",
    "print(\"Volumen del cilindro: \" , \"{0:.2f}\".format(area*altura), \" m^3\")"
   ]
  },
  {
   "cell_type": "markdown",
   "metadata": {},
   "source": [
    "La fuerza de atracción entre dos masas m1 y m2 separadas por una distancia d, está\n",
    "dada por la fórmula:\n",
    "\n",
    "Donde G es la constante de gravitación universal:\n",
    "\n",
    "Escriba un programa que lea la masa de dos cuerpos y la distancia entre ellos y a\n",
    "continuación obtenga la fuerza gravitacional entre ella. La salida debe ser en dinas; un\n",
    "DINA es igual a g*cm/seg2\n",
    "\n",
    "Formato de salida deseado: xx.yy dyn"
   ]
  },
  {
   "cell_type": "code",
   "execution_count": 23,
   "metadata": {},
   "outputs": [
    {
     "name": "stdout",
     "output_type": "stream",
     "text": [
      "Introduce la masa 1: 5000\n",
      "Introduce la masa 2: 6000\n",
      "Introduce la distancia entre las masas: 3\n",
      "Fuerza de atraccion:  0.22  dyn\n"
     ]
    }
   ],
   "source": [
    "import math\n",
    "masa1 = float( input(\"Introduce la masa 1: \"))\n",
    "masa2 = float( input(\"Introduce la masa 2: \"))\n",
    "distancia = float( input(\"Introduce la distancia entre las masas: \"))\n",
    "gravitacionU= 6.673e-08\n",
    "resultado= (masa1*masa2*gravitacionU)/(distancia*distancia)\n",
    "print(\"Fuerza de atraccion: \" , \"{0:.2f}\".format(resultado), \" dyn\")"
   ]
  },
  {
   "cell_type": "markdown",
   "metadata": {},
   "source": [
    "La famosa ecuación de Einstein para conversión de una masa m en energía viene dada\n",
    "por la fórmula: \n",
    "    E = cm^3\n",
    "\n",
    "c es la velocidad de la luz: c = 2.997925x10^+10 \n",
    "\n",
    "\n",
    "Escribir un programa que lea una masa en gramos y obtenga la cantidad de energía\n",
    "producida cuando la masa se convierta en energía.\n",
    "Nota: se la masa se da en gramos, la fórmula produce la energía en ergios.\n",
    "Formato de salida deseado: xx.yy erg"
   ]
  },
  {
   "cell_type": "code",
   "execution_count": 24,
   "metadata": {},
   "outputs": [
    {
     "name": "stdout",
     "output_type": "stream",
     "text": [
      "Introduce la masa en gramos: 20\n",
      "Energia de la masa:  239834000000000.00  erg\n"
     ]
    }
   ],
   "source": [
    "import math\n",
    "masa1 = float( input(\"Introduce la masa en gramos: \"))\n",
    "c= 2.997925e+10\n",
    "resultado= (masa1*masa1*masa1*c)\n",
    "print(\"Energia de la masa: \" , \"{0:.2f}\".format(resultado), \" erg\")"
   ]
  },
  {
   "cell_type": "markdown",
   "metadata": {},
   "source": [
    "Escribir un programa que lea la hora en un día de notación 24 horas y escriba la\n",
    "respuesta en notación de 12 horas. Por ejemplo, si la entrada es 13:45, la salida será:\n",
    "\n",
    "        1:45 PM\n",
    "\n",
    "El programa pedirá al usuario que introduzca exactamente cinco caracteres. Así, por\n",
    "ejemplo, las nueve en punto se introduce como:\n",
    "        09:00"
   ]
  },
  {
   "cell_type": "code",
   "execution_count": 43,
   "metadata": {},
   "outputs": [
    {
     "name": "stdout",
     "output_type": "stream",
     "text": [
      "La hora con notacion de 24h , usar 5 caracteres: 00:32\n",
      "12 : 32 AM\n"
     ]
    }
   ],
   "source": [
    "horain = input(\"La hora con notacion de 24h , usar 5 caracteres: \")\n",
    "horain = horain.split(\":\")\n",
    "notación= [\"00\",\"01\",\"02\",\"03\",\"04\",\"05\",\"06\",\"07\",\"08\",\"09\",\"10\",\"11\",\"12\"\n",
    "           ,\"13\",\"14\",\"15\",\"16\",\"17\",\"18\",\"19\",\"20\",\"21\",\"22\",\"23\",\"24\"]\n",
    "aux = notación.index(horain[0])\n",
    "diaOnoche= \"PM\"\n",
    "if aux == 24 or aux ==0:\n",
    "    aux = 12\n",
    "    diaOnoche= \"AM\"\n",
    "else:\n",
    "    if aux>12:\n",
    "        diaOnoche= \"PM\"\n",
    "        aux-=12\n",
    "    else:\n",
    "        diaOnoche= \"AM\"\n",
    "\n",
    "print(aux,\":\",horain[1] ,diaOnoche)"
   ]
  },
  {
   "cell_type": "markdown",
   "metadata": {},
   "source": [
    "Leer un número A, evaluar sucesivamente las expresiones siguientes y desplegar los\n",
    "resultados obtenidos en un archivo denominado “practica01.out”.\n",
    "B = A + 10\n",
    "C = 2 * B + A\n",
    "D = A + B + C + 5\n",
    "Formato de salida deseado:\n",
    "Ejercicio 9.\n",
    "A = xx\n",
    "B = yy\n",
    "C = zz\n",
    "D = xyz"
   ]
  },
  {
   "cell_type": "code",
   "execution_count": 66,
   "metadata": {},
   "outputs": [
    {
     "name": "stdout",
     "output_type": "stream",
     "text": [
      "Valor de A: 5\n"
     ]
    }
   ],
   "source": [
    "numeroA = int(input(\"Valor de A: \"))\n",
    "print(\"Ejercicio 9.\", \"\\n\" ,\n",
    "      \"A = \" ,numeroA , \"\\n\" ,\n",
    "      \"B = \" ,numeroA +10 , \"\\n\",\n",
    "      \"C = \" ,2*(numeroA +10) + numeroA , \"\\n\",\n",
    "      \"D = \" ,numeroA+ (numeroA +10)+(2*(numeroA +10) + numeroA) + 5, \"\\n\", file=open(\"practica01.out\",\"w\"))"
   ]
  },
  {
   "cell_type": "markdown",
   "metadata": {},
   "source": [
    "Hacer leer un número X de tipo decimal, hallar su valor absoluto y decimal, desplegar\n",
    "el resultado dentro del archivo “practica01.out”.\n",
    "Formato de salida deseado:\n",
    "Ejercicio 8.\n",
    "Número: xx.yy\n",
    "Valor absoluto: xx\n",
    "Parte decimal: yy"
   ]
  },
  {
   "cell_type": "code",
   "execution_count": 67,
   "metadata": {},
   "outputs": [
    {
     "name": "stdout",
     "output_type": "stream",
     "text": [
      "número X de tipo decimal: 11.22\n"
     ]
    },
    {
     "data": {
      "text/plain": [
       "54"
      ]
     },
     "execution_count": 67,
     "metadata": {},
     "output_type": "execute_result"
    }
   ],
   "source": [
    "copia=open(\"practica01.out\",\"r\")\n",
    "copia = str(copia.read())\n",
    "numero = float(input(\"número X de tipo decimal: \"))\n",
    "ListNumero = str(numero).split(\".\") \n",
    "print(\"Ejercicio 8.\", \"\\n\" ,\n",
    "      \"Número: \" ,numero , \"\\n\" ,\n",
    "      \"Valor absoluto: \" ,ListNumero[0] , \"\\n\",\n",
    "      \"Parte decimal: \" ,ListNumero[1], \"\\n\",  file=open(\"practica01.out\",\"w\"))\n",
    "copia2=open(\"practica01.out\",\"r\")\n",
    "copia2 = str(copia2.read())\n",
    "file=open(\"practica01.out\",\"w\")\n",
    "file.write(copia2)\n",
    "file.write(copia)\n"
   ]
  },
  {
   "cell_type": "markdown",
   "metadata": {},
   "source": [
    "Leer a, b, c y d, hallar el menor y mayor de los cuatro números, desplegar su resultado\n",
    "en el archivo “practica01.out”."
   ]
  },
  {
   "cell_type": "code",
   "execution_count": 71,
   "metadata": {},
   "outputs": [
    {
     "name": "stdout",
     "output_type": "stream",
     "text": [
      "Valor de a: 5\n",
      "Valor de b: 1\n",
      "Valor de c: 3\n",
      "Valor de d: 10\n"
     ]
    },
    {
     "data": {
      "text/plain": [
       "76"
      ]
     },
     "execution_count": 71,
     "metadata": {},
     "output_type": "execute_result"
    }
   ],
   "source": [
    "copia=open(\"practica01.out\",\"r\")\n",
    "copia = str(copia.read())\n",
    "a = int(input(\"Valor de a: \"))\n",
    "b = int(input(\"Valor de b: \"))\n",
    "c = int(input(\"Valor de c: \"))\n",
    "d = int(input(\"Valor de d: \"))\n",
    "numeros = [a,b,c,d]\n",
    "print(\"Ejercicio 10.\", \"\\n\" ,\n",
    "      \"Números: a=\" ,a,\" b=\",b , \" c=\", c ,\" d=\" ,d, \"\\n\" ,\n",
    "      \"menor: \" ,min(numeros) , \"\\n\",\n",
    "      \"mayor: \" ,max(numeros), \"\\n\",  file=open(\"practica01.out\",\"w\"))\n",
    "copia2=open(\"practica01.out\",\"r\")\n",
    "copia2 = str(copia2.read())\n",
    "file=open(\"practica01.out\",\"w\")\n",
    "file.write(copia)\n",
    "file.write(copia2)"
   ]
  },
  {
   "cell_type": "markdown",
   "metadata": {},
   "source": [
    "Dado los valores de X, Y, Z, evaluar A = X^2+Y^2+Z^2. Si se cumple que, A<100 y Y<5\n",
    "calcular B = (X+Y)^2 – X*Z, caso contrario calcular B = (X-Y)^2 + X*Z. Desplegar A y B\n",
    "en el archivo “practica01.out”"
   ]
  },
  {
   "cell_type": "code",
   "execution_count": 73,
   "metadata": {},
   "outputs": [
    {
     "name": "stdout",
     "output_type": "stream",
     "text": [
      "Valor de X: 6\n",
      "Valor de Y: 7\n",
      "Valor de Z: 8\n"
     ]
    },
    {
     "data": {
      "text/plain": [
       "47"
      ]
     },
     "execution_count": 73,
     "metadata": {},
     "output_type": "execute_result"
    }
   ],
   "source": [
    "copia=open(\"practica01.out\",\"r\")\n",
    "copia = str(copia.read())\n",
    "x = int(input(\"Valor de X: \"))\n",
    "y = int(input(\"Valor de Y: \"))\n",
    "z = int(input(\"Valor de Z: \"))\n",
    "\n",
    "a = (x*x) + (y*y)+ (z*z)\n",
    "if a<100 and y<5:\n",
    "    b = (x*x)+(2*x*y) +(y*y) - (x*z)\n",
    "else:\n",
    "    b = (x*x)-(2*x*y) +(y*y) + (x*z)\n",
    "print(\"Ejercicio 11.\", \"\\n\" ,\n",
    "      \"valor A: \" , a , \"\\n\" ,\n",
    "      \"Valor B: \" ,b , \"\\n\", file=open(\"practica01.out\",\"w\"))\n",
    "copia2=open(\"practica01.out\",\"r\")\n",
    "copia2 = str(copia2.read())\n",
    "file=open(\"practica01.out\",\"w\")\n",
    "file.write(copia)\n",
    "file.write(copia2)"
   ]
  },
  {
   "cell_type": "code",
   "execution_count": null,
   "metadata": {},
   "outputs": [],
   "source": []
  }
 ],
 "metadata": {
  "kernelspec": {
   "display_name": "Python 3",
   "language": "python",
   "name": "python3"
  },
  "language_info": {
   "codemirror_mode": {
    "name": "ipython",
    "version": 3
   },
   "file_extension": ".py",
   "mimetype": "text/x-python",
   "name": "python",
   "nbconvert_exporter": "python",
   "pygments_lexer": "ipython3",
   "version": "3.7.4"
  }
 },
 "nbformat": 4,
 "nbformat_minor": 2
}
